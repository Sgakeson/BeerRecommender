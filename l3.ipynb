{
 "cells": [
  {
   "cell_type": "code",
   "execution_count": 1,
   "id": "aef4e8fb",
   "metadata": {},
   "outputs": [],
   "source": [
    "import pickle\n",
    "import pandas as pd\n",
    "import numpy as np"
   ]
  },
  {
   "cell_type": "code",
   "execution_count": 2,
   "id": "db2a8850",
   "metadata": {},
   "outputs": [],
   "source": [
    "# The implementation of Levenshtein Distance was guided by this article:\n",
    "# https://blog.paperspace.com/implementing-levenshtein-distance-word-autocomplete-autocorrect/\n",
    "\n",
    "def Lev_Dist(string1, string2):\n",
    "    distances = np.zeros((len(string1) + 1, len(string2) + 1), dtype=\"int\")\n",
    "    \n",
    "    #Initialize matrix by turning column 1 and row 1 into the number of characters\n",
    "    #required to construct the string from scratch\n",
    "    \n",
    "    for i in range(len(string1) + 1):\n",
    "        distances[i][0] = i\n",
    "    for j in range(len(string2) + 1):\n",
    "        distances[0][j] = j\n",
    "    \n",
    "    # Distances are calculated in a 2x2 matrix fashion,\n",
    "    # the position (2,2) is what we are calculating and\n",
    "    # it if the characters in the parent strings (string1,\n",
    "    # string2) are different the (2,2) position is equal to\n",
    "    # the minimum value of the other 3 cells + 1.\n",
    "    \n",
    "    # So we are interested in the (1,2), (2,1) and (1,1)\n",
    "    # positions which will be labeled, col, row, diag,\n",
    "    # respectively.\n",
    "\n",
    "    # The values need to be initialized\n",
    "    row = 0\n",
    "    column = 0\n",
    "    diag = 0\n",
    "    \n",
    "    # We will loop through every position in the distances\n",
    "    # matrix, calculating the distance of the (2,2) position\n",
    "    # of each sub-matrix as we progress.\n",
    "    \n",
    "    for i in range(1, len(string1) + 1):\n",
    "        for j in range(1, len(string2) + 1):\n",
    "            if string1[i-1] == string2[j-1]:\n",
    "                distances[i][j] = distances[i-1][j-1]\n",
    "            else:\n",
    "                col = distances[i - 1][j]\n",
    "                row = distances[i][j - 1]\n",
    "                diag = distances[i-1][j-1]\n",
    "                distances[i][j] = min([row, col, diag]) + 1\n",
    "    return distances[len(string1)][len(string2)]\n",
    "\n",
    "def Lev_Dist_Qualities_Name(beer_name, qualities_names):\n",
    "    min_dist = Lev_Dist(beer_name, qualities_names[0])\n",
    "    index = 0\n",
    "    for i in range(1, len(qualities_names)):\n",
    "        if min_dist == 0:\n",
    "            return(min_dist, qualities_names[i])\n",
    "        dist = Lev_Dist(beer_name, qualities_names[i])\n",
    "        if dist < min_dist:\n",
    "            index = i\n",
    "            min_dist = dist\n",
    "    return(min_dist, qualities_names[index])"
   ]
  },
  {
   "cell_type": "code",
   "execution_count": 3,
   "id": "5d397097",
   "metadata": {},
   "outputs": [],
   "source": [
    "l3_fh = open(\"l3\", \"rb\")\n",
    "l3 = pickle.load(l3_fh)\n",
    "l3_fh.close()\n",
    "\n",
    "qual_names_fh = open(\"qual_names\", \"rb\")\n",
    "qual_names = pickle.load(qual_names_fh)\n",
    "qual_names_fh.close()\n",
    "\n",
    "l3_possible_matches = {}\n",
    "for beer in l3:\n",
    "    l3_possible_matches[beer] = Lev_Dist_Qualities_Name(beer, qual_names)   "
   ]
  },
  {
   "cell_type": "code",
   "execution_count": 4,
   "id": "3488a15c",
   "metadata": {},
   "outputs": [],
   "source": [
    "l3_dict_fh = open(\"l3_dict\", \"wb\")\n",
    "pickle.dump(l3_possible_matches, l3_dict_fh)\n",
    "l3_dict_fh.close()"
   ]
  },
  {
   "cell_type": "code",
   "execution_count": null,
   "id": "96588bcd",
   "metadata": {},
   "outputs": [],
   "source": []
  }
 ],
 "metadata": {
  "kernelspec": {
   "display_name": "Python 3",
   "language": "python",
   "name": "python3"
  },
  "language_info": {
   "codemirror_mode": {
    "name": "ipython",
    "version": 3
   },
   "file_extension": ".py",
   "mimetype": "text/x-python",
   "name": "python",
   "nbconvert_exporter": "python",
   "pygments_lexer": "ipython3",
   "version": "3.8.8"
  }
 },
 "nbformat": 4,
 "nbformat_minor": 5
}
