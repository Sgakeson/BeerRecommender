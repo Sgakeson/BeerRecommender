{
 "cells": [
  {
   "cell_type": "code",
   "execution_count": 1,
   "id": "fae5c408",
   "metadata": {},
   "outputs": [],
   "source": [
    "import numpy as np\n",
    "import pandas as pd\n",
    "import seaborn as sns\n",
    "import copy\n",
    "import pickle as pickle\n",
    "from sklearn.metrics.pairwise import cosine_similarity\n",
    "from scipy.spatial.distance import pdist\n",
    "from scipy.spatial.distance import squareform\n",
    "from scipy.linalg import norm\n",
    "from scipy.sparse import coo_matrix, csr_matrix\n",
    "from scipy.spatial.distance import cosine"
   ]
  },
  {
   "cell_type": "markdown",
   "id": "da4733e6",
   "metadata": {},
   "source": [
    "# Introduction:\n",
    "Suggesting the right beer for someone is always an intellectually difficult affair. It is, frankly, impossible to stay objective in the process. So when emotion dominates our decisions, it may be better to delegate the decision making to a recommender system. Especially given that recommender system may likely have a deeper pool to make recomendations from thanks to the fine folks at BeerAdvocates making their review data public.\n",
    "\n",
    "## Goal:\n",
    "To produce a recommender system that can predict the score of beers for a user based on their review history.\n",
    "\n",
    "## Data Sources:\n",
    "This project will rely on two sources of data, the first a set of over 1.5 million reviews, the second a data set attempting to provide numeric measures of various beer qualitites with Natural Language Processing approach to deciphering beer reviews.\n",
    "The combination of these two will produce the ability to find similarities between beers, and similarities between beer drinkers.\n",
    "\n",
    "## Inspiration / Jumping Off Point:\n",
    "A notebook produced by user ruthgn on Kaggle proved inspirational for the idea that these two data sets could be merged. It should be noted that ruthgn also turned the data into a recommender system so I've purposely avoided drawing inspiration from their recommender system. I have however looked at their data cleaning and exploration methods to gain some additional insight into the data. Some of it I agree with, some I disagree. So it will be interesting if our recommender systems produce similar results."
   ]
  },
  {
   "cell_type": "markdown",
   "id": "8aa1c583",
   "metadata": {},
   "source": [
    "## Proposed Program Structure:\n",
    "1. Exploratory Data Analysis\n",
    "2. Create Data Set Conjunction\n",
    "3. Create Recommender System Framework\n",
    "4. Train Recommender System\n",
    "5. Test Recommender System"
   ]
  },
  {
   "cell_type": "markdown",
   "id": "32e75fd4",
   "metadata": {},
   "source": [
    "# Exploratory Data Analysis"
   ]
  },
  {
   "cell_type": "code",
   "execution_count": 2,
   "id": "359bcd24",
   "metadata": {},
   "outputs": [],
   "source": [
    "#Note the data was too large to upload to github, so I've included a link below to download the data locally\n",
    "#https://www.kaggle.com/datasets/rdoume/beerreviews\n",
    "#https://www.kaggle.com/datasets/stephenpolozoff/top-beer-information\n",
    "\n",
    "\n",
    "Beer_ratings = pd.read_csv(\"Data\\\\beer_reviews.csv\")\n",
    "Beer_qualities = pd.read_csv(\"Data\\\\beer_data_set.csv\")"
   ]
  },
  {
   "cell_type": "code",
   "execution_count": 3,
   "id": "abfd3797",
   "metadata": {},
   "outputs": [
    {
     "data": {
      "text/html": [
       "<div>\n",
       "<style scoped>\n",
       "    .dataframe tbody tr th:only-of-type {\n",
       "        vertical-align: middle;\n",
       "    }\n",
       "\n",
       "    .dataframe tbody tr th {\n",
       "        vertical-align: top;\n",
       "    }\n",
       "\n",
       "    .dataframe thead th {\n",
       "        text-align: right;\n",
       "    }\n",
       "</style>\n",
       "<table border=\"1\" class=\"dataframe\">\n",
       "  <thead>\n",
       "    <tr style=\"text-align: right;\">\n",
       "      <th></th>\n",
       "      <th>brewery_id</th>\n",
       "      <th>brewery_name</th>\n",
       "      <th>review_time</th>\n",
       "      <th>review_overall</th>\n",
       "      <th>review_aroma</th>\n",
       "      <th>review_appearance</th>\n",
       "      <th>review_profilename</th>\n",
       "      <th>beer_style</th>\n",
       "      <th>review_palate</th>\n",
       "      <th>review_taste</th>\n",
       "      <th>beer_name</th>\n",
       "      <th>beer_abv</th>\n",
       "      <th>beer_beerid</th>\n",
       "    </tr>\n",
       "  </thead>\n",
       "  <tbody>\n",
       "    <tr>\n",
       "      <th>0</th>\n",
       "      <td>10325</td>\n",
       "      <td>Vecchio Birraio</td>\n",
       "      <td>1234817823</td>\n",
       "      <td>1.5</td>\n",
       "      <td>2.0</td>\n",
       "      <td>2.5</td>\n",
       "      <td>stcules</td>\n",
       "      <td>Hefeweizen</td>\n",
       "      <td>1.5</td>\n",
       "      <td>1.5</td>\n",
       "      <td>Sausa Weizen</td>\n",
       "      <td>5.0</td>\n",
       "      <td>47986</td>\n",
       "    </tr>\n",
       "    <tr>\n",
       "      <th>1</th>\n",
       "      <td>10325</td>\n",
       "      <td>Vecchio Birraio</td>\n",
       "      <td>1235915097</td>\n",
       "      <td>3.0</td>\n",
       "      <td>2.5</td>\n",
       "      <td>3.0</td>\n",
       "      <td>stcules</td>\n",
       "      <td>English Strong Ale</td>\n",
       "      <td>3.0</td>\n",
       "      <td>3.0</td>\n",
       "      <td>Red Moon</td>\n",
       "      <td>6.2</td>\n",
       "      <td>48213</td>\n",
       "    </tr>\n",
       "    <tr>\n",
       "      <th>2</th>\n",
       "      <td>10325</td>\n",
       "      <td>Vecchio Birraio</td>\n",
       "      <td>1235916604</td>\n",
       "      <td>3.0</td>\n",
       "      <td>2.5</td>\n",
       "      <td>3.0</td>\n",
       "      <td>stcules</td>\n",
       "      <td>Foreign / Export Stout</td>\n",
       "      <td>3.0</td>\n",
       "      <td>3.0</td>\n",
       "      <td>Black Horse Black Beer</td>\n",
       "      <td>6.5</td>\n",
       "      <td>48215</td>\n",
       "    </tr>\n",
       "    <tr>\n",
       "      <th>3</th>\n",
       "      <td>10325</td>\n",
       "      <td>Vecchio Birraio</td>\n",
       "      <td>1234725145</td>\n",
       "      <td>3.0</td>\n",
       "      <td>3.0</td>\n",
       "      <td>3.5</td>\n",
       "      <td>stcules</td>\n",
       "      <td>German Pilsener</td>\n",
       "      <td>2.5</td>\n",
       "      <td>3.0</td>\n",
       "      <td>Sausa Pils</td>\n",
       "      <td>5.0</td>\n",
       "      <td>47969</td>\n",
       "    </tr>\n",
       "    <tr>\n",
       "      <th>4</th>\n",
       "      <td>1075</td>\n",
       "      <td>Caldera Brewing Company</td>\n",
       "      <td>1293735206</td>\n",
       "      <td>4.0</td>\n",
       "      <td>4.5</td>\n",
       "      <td>4.0</td>\n",
       "      <td>johnmichaelsen</td>\n",
       "      <td>American Double / Imperial IPA</td>\n",
       "      <td>4.0</td>\n",
       "      <td>4.5</td>\n",
       "      <td>Cauldron DIPA</td>\n",
       "      <td>7.7</td>\n",
       "      <td>64883</td>\n",
       "    </tr>\n",
       "  </tbody>\n",
       "</table>\n",
       "</div>"
      ],
      "text/plain": [
       "   brewery_id             brewery_name  review_time  review_overall  \\\n",
       "0       10325          Vecchio Birraio   1234817823             1.5   \n",
       "1       10325          Vecchio Birraio   1235915097             3.0   \n",
       "2       10325          Vecchio Birraio   1235916604             3.0   \n",
       "3       10325          Vecchio Birraio   1234725145             3.0   \n",
       "4        1075  Caldera Brewing Company   1293735206             4.0   \n",
       "\n",
       "   review_aroma  review_appearance review_profilename  \\\n",
       "0           2.0                2.5            stcules   \n",
       "1           2.5                3.0            stcules   \n",
       "2           2.5                3.0            stcules   \n",
       "3           3.0                3.5            stcules   \n",
       "4           4.5                4.0     johnmichaelsen   \n",
       "\n",
       "                       beer_style  review_palate  review_taste  \\\n",
       "0                      Hefeweizen            1.5           1.5   \n",
       "1              English Strong Ale            3.0           3.0   \n",
       "2          Foreign / Export Stout            3.0           3.0   \n",
       "3                 German Pilsener            2.5           3.0   \n",
       "4  American Double / Imperial IPA            4.0           4.5   \n",
       "\n",
       "                beer_name  beer_abv  beer_beerid  \n",
       "0            Sausa Weizen       5.0        47986  \n",
       "1                Red Moon       6.2        48213  \n",
       "2  Black Horse Black Beer       6.5        48215  \n",
       "3              Sausa Pils       5.0        47969  \n",
       "4           Cauldron DIPA       7.7        64883  "
      ]
     },
     "execution_count": 3,
     "metadata": {},
     "output_type": "execute_result"
    }
   ],
   "source": [
    "Beer_ratings.head()"
   ]
  },
  {
   "cell_type": "code",
   "execution_count": 4,
   "id": "212e562c",
   "metadata": {},
   "outputs": [
    {
     "data": {
      "text/plain": [
       "(1586614, 13)"
      ]
     },
     "execution_count": 4,
     "metadata": {},
     "output_type": "execute_result"
    }
   ],
   "source": [
    "Beer_ratings.shape"
   ]
  },
  {
   "cell_type": "code",
   "execution_count": 5,
   "id": "230456fb",
   "metadata": {},
   "outputs": [
    {
     "data": {
      "text/plain": [
       "<AxesSubplot:xlabel='review_overall', ylabel='Count'>"
      ]
     },
     "execution_count": 5,
     "metadata": {},
     "output_type": "execute_result"
    },
    {
     "data": {
      "image/png": "[encoded data removed]",
      "text/plain": [
       "<Figure size 432x288 with 1 Axes>"
      ]
     },
     "metadata": {
      "needs_background": "light"
     },
     "output_type": "display_data"
    }
   ],
   "source": [
    "sns.histplot(Beer_ratings[\"review_overall\"])"
   ]
  },
  {
   "cell_type": "markdown",
   "id": "b44800d1",
   "metadata": {},
   "source": [
    "Here we can see that the ratings have an approximately normal distribution with an extended tail on the left hand side."
   ]
  },
  {
   "cell_type": "markdown",
   "id": "3ab96b42",
   "metadata": {},
   "source": [
    "Before we get jazzed up about having over 1.5 million ratings to create our system from we need to work on how to check that our ratings data are rating beers that we have information about. It appears that the combination of Brewery name and beer name might be a good cross data set indicator for matching rows of the two data frames."
   ]
  },
  {
   "cell_type": "code",
   "execution_count": 6,
   "id": "37d3bebe",
   "metadata": {},
   "outputs": [
    {
     "data": {
      "text/html": [
       "<div>\n",
       "<style scoped>\n",
       "    .dataframe tbody tr th:only-of-type {\n",
       "        vertical-align: middle;\n",
       "    }\n",
       "\n",
       "    .dataframe tbody tr th {\n",
       "        vertical-align: top;\n",
       "    }\n",
       "\n",
       "    .dataframe thead th {\n",
       "        text-align: right;\n",
       "    }\n",
       "</style>\n",
       "<table border=\"1\" class=\"dataframe\">\n",
       "  <thead>\n",
       "    <tr style=\"text-align: right;\">\n",
       "      <th></th>\n",
       "      <th>Name</th>\n",
       "      <th>key</th>\n",
       "      <th>Style</th>\n",
       "      <th>Style Key</th>\n",
       "      <th>Brewery</th>\n",
       "      <th>Description</th>\n",
       "      <th>ABV</th>\n",
       "      <th>Ave Rating</th>\n",
       "      <th>Min IBU</th>\n",
       "      <th>Max IBU</th>\n",
       "      <th>...</th>\n",
       "      <th>Body</th>\n",
       "      <th>Alcohol</th>\n",
       "      <th>Bitter</th>\n",
       "      <th>Sweet</th>\n",
       "      <th>Sour</th>\n",
       "      <th>Salty</th>\n",
       "      <th>Fruits</th>\n",
       "      <th>Hoppy</th>\n",
       "      <th>Spices</th>\n",
       "      <th>Malty</th>\n",
       "    </tr>\n",
       "  </thead>\n",
       "  <tbody>\n",
       "    <tr>\n",
       "      <th>0</th>\n",
       "      <td>Amber</td>\n",
       "      <td>251</td>\n",
       "      <td>Altbier</td>\n",
       "      <td>8</td>\n",
       "      <td>Alaskan Brewing Co.</td>\n",
       "      <td>Notes:Richly malty and long on the palate, wit...</td>\n",
       "      <td>5.3</td>\n",
       "      <td>3.65</td>\n",
       "      <td>25</td>\n",
       "      <td>50</td>\n",
       "      <td>...</td>\n",
       "      <td>32</td>\n",
       "      <td>9</td>\n",
       "      <td>47</td>\n",
       "      <td>74</td>\n",
       "      <td>33</td>\n",
       "      <td>0</td>\n",
       "      <td>33</td>\n",
       "      <td>57</td>\n",
       "      <td>8</td>\n",
       "      <td>111</td>\n",
       "    </tr>\n",
       "    <tr>\n",
       "      <th>1</th>\n",
       "      <td>Double Bag</td>\n",
       "      <td>252</td>\n",
       "      <td>Altbier</td>\n",
       "      <td>8</td>\n",
       "      <td>Long Trail Brewing Co.</td>\n",
       "      <td>Notes:This malty, full-bodied double alt is al...</td>\n",
       "      <td>7.2</td>\n",
       "      <td>3.90</td>\n",
       "      <td>25</td>\n",
       "      <td>50</td>\n",
       "      <td>...</td>\n",
       "      <td>57</td>\n",
       "      <td>18</td>\n",
       "      <td>33</td>\n",
       "      <td>55</td>\n",
       "      <td>16</td>\n",
       "      <td>0</td>\n",
       "      <td>24</td>\n",
       "      <td>35</td>\n",
       "      <td>12</td>\n",
       "      <td>84</td>\n",
       "    </tr>\n",
       "    <tr>\n",
       "      <th>2</th>\n",
       "      <td>Long Trail Ale</td>\n",
       "      <td>253</td>\n",
       "      <td>Altbier</td>\n",
       "      <td>8</td>\n",
       "      <td>Long Trail Brewing Co.</td>\n",
       "      <td>Notes:Long Trail Ale is a full-bodied amber al...</td>\n",
       "      <td>5.0</td>\n",
       "      <td>3.58</td>\n",
       "      <td>25</td>\n",
       "      <td>50</td>\n",
       "      <td>...</td>\n",
       "      <td>37</td>\n",
       "      <td>6</td>\n",
       "      <td>42</td>\n",
       "      <td>43</td>\n",
       "      <td>11</td>\n",
       "      <td>0</td>\n",
       "      <td>10</td>\n",
       "      <td>54</td>\n",
       "      <td>4</td>\n",
       "      <td>62</td>\n",
       "    </tr>\n",
       "    <tr>\n",
       "      <th>3</th>\n",
       "      <td>Doppelsticke</td>\n",
       "      <td>254</td>\n",
       "      <td>Altbier</td>\n",
       "      <td>8</td>\n",
       "      <td>Uerige Obergärige Hausbrauerei</td>\n",
       "      <td>Notes:</td>\n",
       "      <td>8.5</td>\n",
       "      <td>4.15</td>\n",
       "      <td>25</td>\n",
       "      <td>50</td>\n",
       "      <td>...</td>\n",
       "      <td>55</td>\n",
       "      <td>31</td>\n",
       "      <td>47</td>\n",
       "      <td>101</td>\n",
       "      <td>18</td>\n",
       "      <td>1</td>\n",
       "      <td>49</td>\n",
       "      <td>40</td>\n",
       "      <td>16</td>\n",
       "      <td>119</td>\n",
       "    </tr>\n",
       "    <tr>\n",
       "      <th>4</th>\n",
       "      <td>Scurry</td>\n",
       "      <td>255</td>\n",
       "      <td>Altbier</td>\n",
       "      <td>8</td>\n",
       "      <td>Off Color Brewing</td>\n",
       "      <td>Notes:Just cause it's dark and German doesn't ...</td>\n",
       "      <td>5.3</td>\n",
       "      <td>3.67</td>\n",
       "      <td>25</td>\n",
       "      <td>50</td>\n",
       "      <td>...</td>\n",
       "      <td>69</td>\n",
       "      <td>10</td>\n",
       "      <td>63</td>\n",
       "      <td>120</td>\n",
       "      <td>14</td>\n",
       "      <td>0</td>\n",
       "      <td>19</td>\n",
       "      <td>36</td>\n",
       "      <td>15</td>\n",
       "      <td>218</td>\n",
       "    </tr>\n",
       "  </tbody>\n",
       "</table>\n",
       "<p>5 rows × 21 columns</p>\n",
       "</div>"
      ],
      "text/plain": [
       "             Name  key    Style  Style Key                         Brewery  \\\n",
       "0           Amber  251  Altbier          8             Alaskan Brewing Co.   \n",
       "1      Double Bag  252  Altbier          8          Long Trail Brewing Co.   \n",
       "2  Long Trail Ale  253  Altbier          8          Long Trail Brewing Co.   \n",
       "3    Doppelsticke  254  Altbier          8  Uerige Obergärige Hausbrauerei   \n",
       "4          Scurry  255  Altbier          8               Off Color Brewing   \n",
       "\n",
       "                                         Description  ABV  Ave Rating  \\\n",
       "0  Notes:Richly malty and long on the palate, wit...  5.3        3.65   \n",
       "1  Notes:This malty, full-bodied double alt is al...  7.2        3.90   \n",
       "2  Notes:Long Trail Ale is a full-bodied amber al...  5.0        3.58   \n",
       "3                                             Notes:  8.5        4.15   \n",
       "4  Notes:Just cause it's dark and German doesn't ...  5.3        3.67   \n",
       "\n",
       "   Min IBU  Max IBU  ...  Body  Alcohol  Bitter  Sweet  Sour  Salty  Fruits  \\\n",
       "0       25       50  ...    32        9      47     74    33      0      33   \n",
       "1       25       50  ...    57       18      33     55    16      0      24   \n",
       "2       25       50  ...    37        6      42     43    11      0      10   \n",
       "3       25       50  ...    55       31      47    101    18      1      49   \n",
       "4       25       50  ...    69       10      63    120    14      0      19   \n",
       "\n",
       "   Hoppy  Spices  Malty  \n",
       "0     57       8    111  \n",
       "1     35      12     84  \n",
       "2     54       4     62  \n",
       "3     40      16    119  \n",
       "4     36      15    218  \n",
       "\n",
       "[5 rows x 21 columns]"
      ]
     },
     "execution_count": 6,
     "metadata": {},
     "output_type": "execute_result"
    }
   ],
   "source": [
    "Beer_qualities.head()"
   ]
  },
  {
   "cell_type": "markdown",
   "id": "5f54d407",
   "metadata": {},
   "source": [
    "Again we have the name of a beer coupled with the brewery that produced it."
   ]
  },
  {
   "cell_type": "code",
   "execution_count": 7,
   "id": "ca935524",
   "metadata": {},
   "outputs": [],
   "source": [
    "# Combine the Brewery name and beer name in the reviews data frame, and in the beer qualities data frame.\n",
    "# Then see how many reviews are for beers we can positively identify in the qualities Data Frame\n",
    "\n",
    "# <brewery_name>_<beer_name>\n",
    "# all in lower case\n",
    "Beer_ratings[\"brewery_name\"] = Beer_ratings[\"brewery_name\"].str.lower()\n",
    "Beer_ratings[\"beer_name\"] = Beer_ratings[\"beer_name\"].str.lower()\n",
    "Beer_ratings[\"combined_name\"] = Beer_ratings[\"brewery_name\"] + \"_\" + Beer_ratings[\"beer_name\"]\n",
    "Beer_ratings[\"combined_name\"] = Beer_ratings[\"combined_name\"].astype(\"string\")\n",
    "\n",
    "#Add Code about checking for NA\n",
    "Beer_ratings.dropna(axis=0, subset=['combined_name'], inplace = True)\n"
   ]
  },
  {
   "cell_type": "code",
   "execution_count": 8,
   "id": "8aa39191",
   "metadata": {},
   "outputs": [
    {
     "data": {
      "text/html": [
       "<div>\n",
       "<style scoped>\n",
       "    .dataframe tbody tr th:only-of-type {\n",
       "        vertical-align: middle;\n",
       "    }\n",
       "\n",
       "    .dataframe tbody tr th {\n",
       "        vertical-align: top;\n",
       "    }\n",
       "\n",
       "    .dataframe thead th {\n",
       "        text-align: right;\n",
       "    }\n",
       "</style>\n",
       "<table border=\"1\" class=\"dataframe\">\n",
       "  <thead>\n",
       "    <tr style=\"text-align: right;\">\n",
       "      <th></th>\n",
       "      <th>brewery_id</th>\n",
       "      <th>brewery_name</th>\n",
       "      <th>review_time</th>\n",
       "      <th>review_overall</th>\n",
       "      <th>review_aroma</th>\n",
       "      <th>review_appearance</th>\n",
       "      <th>review_profilename</th>\n",
       "      <th>beer_style</th>\n",
       "      <th>review_palate</th>\n",
       "      <th>review_taste</th>\n",
       "      <th>beer_name</th>\n",
       "      <th>beer_abv</th>\n",
       "      <th>beer_beerid</th>\n",
       "      <th>combined_name</th>\n",
       "    </tr>\n",
       "  </thead>\n",
       "  <tbody>\n",
       "    <tr>\n",
       "      <th>0</th>\n",
       "      <td>10325</td>\n",
       "      <td>vecchio birraio</td>\n",
       "      <td>1234817823</td>\n",
       "      <td>1.5</td>\n",
       "      <td>2.0</td>\n",
       "      <td>2.5</td>\n",
       "      <td>stcules</td>\n",
       "      <td>Hefeweizen</td>\n",
       "      <td>1.5</td>\n",
       "      <td>1.5</td>\n",
       "      <td>sausa weizen</td>\n",
       "      <td>5.0</td>\n",
       "      <td>47986</td>\n",
       "      <td>vecchio birraio_sausa weizen</td>\n",
       "    </tr>\n",
       "    <tr>\n",
       "      <th>1</th>\n",
       "      <td>10325</td>\n",
       "      <td>vecchio birraio</td>\n",
       "      <td>1235915097</td>\n",
       "      <td>3.0</td>\n",
       "      <td>2.5</td>\n",
       "      <td>3.0</td>\n",
       "      <td>stcules</td>\n",
       "      <td>English Strong Ale</td>\n",
       "      <td>3.0</td>\n",
       "      <td>3.0</td>\n",
       "      <td>red moon</td>\n",
       "      <td>6.2</td>\n",
       "      <td>48213</td>\n",
       "      <td>vecchio birraio_red moon</td>\n",
       "    </tr>\n",
       "    <tr>\n",
       "      <th>2</th>\n",
       "      <td>10325</td>\n",
       "      <td>vecchio birraio</td>\n",
       "      <td>1235916604</td>\n",
       "      <td>3.0</td>\n",
       "      <td>2.5</td>\n",
       "      <td>3.0</td>\n",
       "      <td>stcules</td>\n",
       "      <td>Foreign / Export Stout</td>\n",
       "      <td>3.0</td>\n",
       "      <td>3.0</td>\n",
       "      <td>black horse black beer</td>\n",
       "      <td>6.5</td>\n",
       "      <td>48215</td>\n",
       "      <td>vecchio birraio_black horse black beer</td>\n",
       "    </tr>\n",
       "    <tr>\n",
       "      <th>3</th>\n",
       "      <td>10325</td>\n",
       "      <td>vecchio birraio</td>\n",
       "      <td>1234725145</td>\n",
       "      <td>3.0</td>\n",
       "      <td>3.0</td>\n",
       "      <td>3.5</td>\n",
       "      <td>stcules</td>\n",
       "      <td>German Pilsener</td>\n",
       "      <td>2.5</td>\n",
       "      <td>3.0</td>\n",
       "      <td>sausa pils</td>\n",
       "      <td>5.0</td>\n",
       "      <td>47969</td>\n",
       "      <td>vecchio birraio_sausa pils</td>\n",
       "    </tr>\n",
       "    <tr>\n",
       "      <th>4</th>\n",
       "      <td>1075</td>\n",
       "      <td>caldera brewing company</td>\n",
       "      <td>1293735206</td>\n",
       "      <td>4.0</td>\n",
       "      <td>4.5</td>\n",
       "      <td>4.0</td>\n",
       "      <td>johnmichaelsen</td>\n",
       "      <td>American Double / Imperial IPA</td>\n",
       "      <td>4.0</td>\n",
       "      <td>4.5</td>\n",
       "      <td>cauldron dipa</td>\n",
       "      <td>7.7</td>\n",
       "      <td>64883</td>\n",
       "      <td>caldera brewing company_cauldron dipa</td>\n",
       "    </tr>\n",
       "  </tbody>\n",
       "</table>\n",
       "</div>"
      ],
      "text/plain": [
       "   brewery_id             brewery_name  review_time  review_overall  \\\n",
       "0       10325          vecchio birraio   1234817823             1.5   \n",
       "1       10325          vecchio birraio   1235915097             3.0   \n",
       "2       10325          vecchio birraio   1235916604             3.0   \n",
       "3       10325          vecchio birraio   1234725145             3.0   \n",
       "4        1075  caldera brewing company   1293735206             4.0   \n",
       "\n",
       "   review_aroma  review_appearance review_profilename  \\\n",
       "0           2.0                2.5            stcules   \n",
       "1           2.5                3.0            stcules   \n",
       "2           2.5                3.0            stcules   \n",
       "3           3.0                3.5            stcules   \n",
       "4           4.5                4.0     johnmichaelsen   \n",
       "\n",
       "                       beer_style  review_palate  review_taste  \\\n",
       "0                      Hefeweizen            1.5           1.5   \n",
       "1              English Strong Ale            3.0           3.0   \n",
       "2          Foreign / Export Stout            3.0           3.0   \n",
       "3                 German Pilsener            2.5           3.0   \n",
       "4  American Double / Imperial IPA            4.0           4.5   \n",
       "\n",
       "                beer_name  beer_abv  beer_beerid  \\\n",
       "0            sausa weizen       5.0        47986   \n",
       "1                red moon       6.2        48213   \n",
       "2  black horse black beer       6.5        48215   \n",
       "3              sausa pils       5.0        47969   \n",
       "4           cauldron dipa       7.7        64883   \n",
       "\n",
       "                            combined_name  \n",
       "0            vecchio birraio_sausa weizen  \n",
       "1                vecchio birraio_red moon  \n",
       "2  vecchio birraio_black horse black beer  \n",
       "3              vecchio birraio_sausa pils  \n",
       "4   caldera brewing company_cauldron dipa  "
      ]
     },
     "execution_count": 8,
     "metadata": {},
     "output_type": "execute_result"
    }
   ],
   "source": [
    "Beer_ratings.head()"
   ]
  },
  {
   "cell_type": "code",
   "execution_count": 9,
   "id": "64ebae9d",
   "metadata": {},
   "outputs": [],
   "source": [
    "Beer_qualities[\"Name\"] = Beer_qualities[\"Name\"].str.lower()\n",
    "Beer_qualities[\"Brewery\"] = Beer_qualities[\"Brewery\"].str.lower()\n",
    "Beer_qualities[\"combined_name\"] = Beer_qualities[\"Brewery\"] + \"_\" + Beer_qualities[\"Name\"]\n",
    "Beer_qualities[\"combined_name\"] = Beer_qualities[\"combined_name\"].astype(\"string\")\n",
    "\n",
    "#Add code for checking for NA\n",
    "Beer_qualities.dropna(axis=0, subset=['combined_name'], inplace = True)\n"
   ]
  },
  {
   "cell_type": "markdown",
   "id": "8b247d53",
   "metadata": {},
   "source": [
    "# Creating Data Set Conjunction"
   ]
  },
  {
   "cell_type": "code",
   "execution_count": 10,
   "id": "131c83d9",
   "metadata": {},
   "outputs": [],
   "source": [
    "Beer_Ratings_Names = list(Beer_ratings[\"combined_name\"])\n",
    "Beer_Qualities_Names = list(Beer_qualities[\"combined_name\"])"
   ]
  },
  {
   "cell_type": "code",
   "execution_count": 11,
   "id": "0b1e1b18",
   "metadata": {},
   "outputs": [],
   "source": [
    "#This cell takes a while to run 1.5 million ratings searching through 3500+ Beer quality names\n",
    "#beer_found_inequalities_count = 0\n",
    "#for i in range(len(Beer_Ratings_Names)):\n",
    "#    if Beer_Ratings_Names[i] in Beer_Qualities_Names:\n",
    "#        beer_found_inequalities_count += 1\n",
    "#print(f\"Out of {len(Beer_Ratings_Names)} ratings, {beer_found_inequalities_count} ratings were represented in Beer Qualities\")"
   ]
  },
  {
   "cell_type": "code",
   "execution_count": 12,
   "id": "79cc8858",
   "metadata": {},
   "outputs": [
    {
     "name": "stdout",
     "output_type": "stream",
     "text": [
      "This means that approximately 24.0595% of ratings can be directly accounted for\n"
     ]
    }
   ],
   "source": [
    "print(f\"This means that approximately {round(100*381732/1586614, 4)}% of ratings can be directly accounted for\")"
   ]
  },
  {
   "cell_type": "markdown",
   "id": "13ed293e",
   "metadata": {},
   "source": [
    "After some research, it appears that fuzzy string matching may be a possible avenue for improving this matching percentage. There is a library for this purpose FuzzyWuzzy, but this library is used in the string matching by the data cleaning in the notebook I drew inspiration from. Additionally the library in question uses an algorithm Levenshtein Distance that I am interested in learning for myself. So below we will implement a Levenshtein distance function and apply it ourselves here. \n",
    "This wont be the most optimized implementation but rather an opportunity to increase the learning potential of this project."
   ]
  },
  {
   "cell_type": "code",
   "execution_count": 13,
   "id": "8fe5553c",
   "metadata": {},
   "outputs": [],
   "source": [
    "# The implementation of Levenshtein Distance was guided by this article:\n",
    "# https://blog.paperspace.com/implementing-levenshtein-distance-word-autocomplete-autocorrect/\n",
    "\n",
    "def Lev_Dist(string1, string2):\n",
    "    distances = np.zeros((len(string1) + 1, len(string2) + 1), dtype=\"int\")\n",
    "    \n",
    "    #Initialize matrix by turning column 1 and row 1 into the number of characters\n",
    "    #required to construct the string from scratch\n",
    "    \n",
    "    for i in range(len(string1) + 1):\n",
    "        distances[i][0] = i\n",
    "    for j in range(len(string2) + 1):\n",
    "        distances[0][j] = j\n",
    "    \n",
    "    # Distances are calculated in a 2x2 matrix fashion,\n",
    "    # the position (2,2) is what we are calculating and\n",
    "    # it if the characters in the parent strings (string1,\n",
    "    # string2) are different the (2,2) position is equal to\n",
    "    # the minimum value of the other 3 cells + 1.\n",
    "    \n",
    "    # So we are interested in the (1,2), (2,1) and (1,1)\n",
    "    # positions which will be labeled, col, row, diag,\n",
    "    # respectively.\n",
    "\n",
    "    # The values need to be initialized\n",
    "    row = 0\n",
    "    column = 0\n",
    "    diag = 0\n",
    "    \n",
    "    # We will loop through every position in the distances\n",
    "    # matrix, calculating the distance of the (2,2) position\n",
    "    # of each sub-matrix as we progress.\n",
    "    \n",
    "    for i in range(1, len(string1) + 1):\n",
    "        for j in range(1, len(string2) + 1):\n",
    "            if string1[i-1] == string2[j-1]:\n",
    "                distances[i][j] = distances[i-1][j-1]\n",
    "            else:\n",
    "                col = distances[i - 1][j]\n",
    "                row = distances[i][j - 1]\n",
    "                diag = distances[i-1][j-1]\n",
    "                distances[i][j] = min([row, col, diag]) + 1\n",
    "    return distances[len(string1)][len(string2)]"
   ]
  },
  {
   "cell_type": "code",
   "execution_count": 14,
   "id": "88a0aada",
   "metadata": {},
   "outputs": [
    {
     "name": "stdout",
     "output_type": "stream",
     "text": [
      "3\n"
     ]
    }
   ],
   "source": [
    "print(Lev_Dist(\"kelm\", \"hello\"))"
   ]
  },
  {
   "cell_type": "markdown",
   "id": "1f7fe3f2",
   "metadata": {},
   "source": [
    "We now have a working way to measure the distance between the keys we have constructed for both of the tables. The next step will be to identify the closest match for each of the \"unmatched\" ratings. However as we will demonstrate, the time to process the Levenstein distance for each possible match is very long. We will take two approaches to diminish that time:\n",
    "1. We will only include beers that have at least 25 ratings\n",
    "2. We will split the computation of distances into 4 sections and run them in seperate notebooks. That way the code can run in parallel.\n"
   ]
  },
  {
   "cell_type": "markdown",
   "id": "753948ed",
   "metadata": {},
   "source": [
    "### Timing\n",
    "First we need to establish how long this process is going to take per levenstein distance we need to measure. Then we will have the ability to reduce the number of names we need to check and then split the data into as many parts as needed to run simultaneously."
   ]
  },
  {
   "cell_type": "code",
   "execution_count": 15,
   "id": "ba8580d4",
   "metadata": {},
   "outputs": [
    {
     "data": {
      "text/plain": [
       "'vecchio birraio_sausa weizen'"
      ]
     },
     "execution_count": 15,
     "metadata": {},
     "output_type": "execute_result"
    }
   ],
   "source": [
    "#Checking if the combined name worked\n",
    "test_rating_key = Beer_ratings.iloc[0][\"combined_name\"]\n",
    "test_rating_key"
   ]
  },
  {
   "cell_type": "code",
   "execution_count": 16,
   "id": "8acf5c06",
   "metadata": {},
   "outputs": [],
   "source": [
    "#See if the distance calculation is in the range we would expect\n",
    "distances = [Lev_Dist(test_rating_key, str(x)) for x in Beer_qualities[\"combined_name\"]]"
   ]
  },
  {
   "cell_type": "code",
   "execution_count": 17,
   "id": "ea1401f8",
   "metadata": {},
   "outputs": [
    {
     "data": {
      "text/plain": [
       "18"
      ]
     },
     "execution_count": 17,
     "metadata": {},
     "output_type": "execute_result"
    }
   ],
   "source": [
    "min(distances)"
   ]
  },
  {
   "cell_type": "code",
   "execution_count": 18,
   "id": "d6a31ea9",
   "metadata": {},
   "outputs": [
    {
     "data": {
      "text/plain": [
       "3690"
      ]
     },
     "execution_count": 18,
     "metadata": {},
     "output_type": "execute_result"
    }
   ],
   "source": [
    "min_index = distances.index(min(distances))\n",
    "min_index"
   ]
  },
  {
   "cell_type": "code",
   "execution_count": 19,
   "id": "6b05ae05",
   "metadata": {},
   "outputs": [
    {
     "data": {
      "text/plain": [
       "'shared brewing_base weight'"
      ]
     },
     "execution_count": 19,
     "metadata": {},
     "output_type": "execute_result"
    }
   ],
   "source": [
    "#So we can see that the minimum distance of 18 was to the beer name below. This is obviously not the same beer with a typo\n",
    "#we will need to establish an upper threshold moving forward for determining the number of changes permissible.\n",
    "Beer_qualities.iloc[min_index][\"combined_name\"]"
   ]
  },
  {
   "cell_type": "code",
   "execution_count": 20,
   "id": "d0ef832c",
   "metadata": {},
   "outputs": [],
   "source": [
    "#This function takes a beer name, and the qualities table name column\n",
    "#and returns the distance and name of the closest match by levenstein distance\n",
    "def Lev_Dist_Qualities_Name(beer_name, qualities_names):\n",
    "    min_dist = Lev_Dist(beer_name, qualities_names[0])\n",
    "    index = 0\n",
    "    for i in range(1, len(qualities_names)):\n",
    "        if min_dist == 0:\n",
    "            return(min_dist, qualities_names[i])\n",
    "        dist = Lev_Dist(beer_name, qualities_names[i])\n",
    "        if dist < min_dist:\n",
    "            index = i\n",
    "            min_dist = dist\n",
    "    return(min_dist, qualities_names[index])"
   ]
  },
  {
   "cell_type": "code",
   "execution_count": 21,
   "id": "f71835b9",
   "metadata": {},
   "outputs": [],
   "source": [
    "import time"
   ]
  },
  {
   "cell_type": "code",
   "execution_count": 22,
   "id": "511096b3",
   "metadata": {},
   "outputs": [
    {
     "name": "stdout",
     "output_type": "stream",
     "text": [
      "total time was 19.047500610351562\n"
     ]
    },
    {
     "data": {
      "text/plain": [
       "[(18, 'shared brewing_base weight'), (16, 'off color brewing_le woof')]"
      ]
     },
     "execution_count": 22,
     "metadata": {},
     "output_type": "execute_result"
    }
   ],
   "source": [
    "#Here we are beginning to measure the time it will take to compute all the levenstein distances\n",
    "#from this first indication it will take ~11 seconds per beer. At 1.5 million beers that will be a very very\n",
    "#long time.\n",
    "qual_names = list(Beer_qualities[\"combined_name\"])\n",
    "time1 = time.time()\n",
    "dist_name_column = [Lev_Dist_Qualities_Name(str(x), qual_names) for x in list(Beer_ratings[\"combined_name\"])[:2]]\n",
    "time2 = time.time()\n",
    "print(f\"total time was {time2 - time1}\")\n",
    "dist_name_column"
   ]
  },
  {
   "cell_type": "code",
   "execution_count": 23,
   "id": "3ce5e030",
   "metadata": {},
   "outputs": [],
   "source": [
    "#To reduce the amount of time we will first determine how many unique names we have in the beer ratings table\n",
    "#that are not in the quality names list\n",
    "unique_beers = list(set(Beer_ratings[\"combined_name\"]))"
   ]
  },
  {
   "cell_type": "code",
   "execution_count": 24,
   "id": "277341e5",
   "metadata": {},
   "outputs": [
    {
     "name": "stdout",
     "output_type": "stream",
     "text": [
      "63757\n"
     ]
    }
   ],
   "source": [
    "count_not_found = 0\n",
    "for x in unique_beers:\n",
    "    if x not in qual_names:\n",
    "        count_not_found += 1\n",
    "print(count_not_found)"
   ]
  },
  {
   "cell_type": "code",
   "execution_count": 25,
   "id": "2dec87d4",
   "metadata": {},
   "outputs": [
    {
     "name": "stdout",
     "output_type": "stream",
     "text": [
      "count_not_found = 6641\n",
      "count_removed = 1403\n",
      "Count of beers to run Lev Dist on = 6641\n",
      "Count of unique beers with matching names = 1403\n"
     ]
    }
   ],
   "source": [
    "# Find the number of unique beers that have more than 25 ratings\n",
    "ratings_count = {}\n",
    "for beer in list(Beer_ratings[\"combined_name\"]):\n",
    "    if beer not in ratings_count:\n",
    "        ratings_count[beer] = 1\n",
    "    else:\n",
    "        ratings_count[beer] += 1\n",
    "\n",
    "unique_beer_over_25_ratings = set()\n",
    "for beer in list(Beer_ratings[\"combined_name\"]):\n",
    "    if ratings_count[beer] >= 25:\n",
    "        unique_beer_over_25_ratings.add(beer)\n",
    "count_not_found = 0\n",
    "count_removed = 0\n",
    "unique_beer_over_25_ratings = list(unique_beer_over_25_ratings)\n",
    "unique_beer_over_25_ratings_not_in_qual_names = []\n",
    "unique_beer_over_25_ratings_in_qual_names = []\n",
    "for x in unique_beer_over_25_ratings: \n",
    "    if x not in qual_names:\n",
    "        count_not_found += 1\n",
    "        unique_beer_over_25_ratings_not_in_qual_names.append(x)\n",
    "    else:\n",
    "        count_removed += 1\n",
    "        unique_beer_over_25_ratings_in_qual_names.append(x)\n",
    "print(f\"count_not_found = {count_not_found}\")\n",
    "print(f\"count_removed = {count_removed}\")\n",
    "print(f\"Count of beers to run Lev Dist on = {len(unique_beer_over_25_ratings_not_in_qual_names)}\")\n",
    "print(f\"Count of unique beers with matching names = {len(unique_beer_over_25_ratings_in_qual_names)}\")"
   ]
  },
  {
   "cell_type": "markdown",
   "id": "960ac108",
   "metadata": {},
   "source": [
    "### Parallelization\n",
    "The data was split into four parts to make the total run time about 8 hours. This way it could be run overnight and be ready for work in the morning. Each of the parallel sections will return a dictionary with the ratings combined names as keys and the result of calling the Lev_Dist_Qualities_Name function on the key."
   ]
  },
  {
   "cell_type": "code",
   "execution_count": 26,
   "id": "268a441a",
   "metadata": {},
   "outputs": [],
   "source": [
    "l1_fh = open(\"l1\", \"wb\")\n",
    "l2_fh = open(\"l2\", \"wb\")\n",
    "l3_fh = open(\"l3\", \"wb\")\n",
    "l4_fh = open(\"l4\", \"wb\")\n",
    "qual_names_fh = open(\"qual_names\", \"wb\")\n",
    "l1 = unique_beer_over_25_ratings_not_in_qual_names[:1661]\n",
    "l2 = unique_beer_over_25_ratings_not_in_qual_names[1661:(1661 + 1661)]\n",
    "l3 = unique_beer_over_25_ratings_not_in_qual_names[(1661 + 1661):(1661 + 1661 + 1661)]\n",
    "l4 = unique_beer_over_25_ratings_not_in_qual_names[(1661 + 1661 + 1661):]\n",
    "\n",
    "pickle.dump(l1, l1_fh)\n",
    "l1_fh.close()\n",
    "\n",
    "pickle.dump(l2, l2_fh)\n",
    "l2_fh.close()\n",
    "\n",
    "pickle.dump(l3, l3_fh)\n",
    "l3_fh.close()\n",
    "\n",
    "pickle.dump(l4, l4_fh)\n",
    "l4_fh.close()\n",
    "\n",
    "pickle.dump(qual_names, qual_names_fh)\n",
    "qual_names_fh.close()"
   ]
  },
  {
   "cell_type": "markdown",
   "id": "ee2c5e61",
   "metadata": {},
   "source": [
    "### Recombining Parallel Data\n",
    "With the parallelization run overnight, we need to load the dictionaries back into this notebook and combine them to create our possible name substitution dictionary"
   ]
  },
  {
   "cell_type": "code",
   "execution_count": 27,
   "id": "28853f62",
   "metadata": {},
   "outputs": [],
   "source": [
    "l1_finished_fh = open(\"l1_dict\", \"rb\")\n",
    "l2_finished_fh = open(\"l2_dict\", \"rb\")\n",
    "l3_finished_fh = open(\"l3_dict\", \"rb\")\n",
    "l4_finished_fh = open(\"l4_dict\", \"rb\")\n",
    "\n",
    "l1_dict = pickle.load(l1_finished_fh)\n",
    "l2_dict = pickle.load(l2_finished_fh)\n",
    "l3_dict = pickle.load(l3_finished_fh)\n",
    "l4_dict = pickle.load(l4_finished_fh)\n",
    "\n",
    "l1_finished_fh.close()\n",
    "l2_finished_fh.close()\n",
    "l3_finished_fh.close()\n",
    "l4_finished_fh.close()"
   ]
  },
  {
   "cell_type": "code",
   "execution_count": 28,
   "id": "729b9192",
   "metadata": {},
   "outputs": [],
   "source": [
    "def combine_dicts(dicts_tuple, threshold = None):\n",
    "    \"\"\"\n",
    "    Params:\n",
    "        threshold: The maximum Levenstein distance for an entry to be considered\n",
    "    \n",
    "    Sort through all four dictionaries adding entries that satisfy threshold conditions to a single\n",
    "    dictionary\n",
    "    \"\"\"\n",
    "    \n",
    "    compiled_dict = {}\n",
    "    for lev_dict in dicts_tuple:\n",
    "        for key in lev_dict:\n",
    "            if threshold is not None and lev_dict[key][0] <= threshold:\n",
    "                compiled_dict[key] = lev_dict[key]\n",
    "            elif threshold is None:\n",
    "                compiled_dict[key] = lev_dict[key]\n",
    "            \n",
    "    return compiled_dict"
   ]
  },
  {
   "cell_type": "code",
   "execution_count": 29,
   "id": "42e73b9b",
   "metadata": {},
   "outputs": [
    {
     "name": "stdout",
     "output_type": "stream",
     "text": [
      "For a maximum Lev dist of 1 there are 36 possible name matches\n",
      "For a maximum Lev dist of 2 there are 62 possible name matches\n",
      "For a maximum Lev dist of 3 there are 108 possible name matches\n",
      "For a maximum Lev dist of 4 there are 205 possible name matches\n",
      "For a maximum Lev dist of 5 there are 360 possible name matches\n",
      "For a maximum Lev dist of 6 there are 571 possible name matches\n",
      "For a maximum Lev dist of 7 there are 793 possible name matches\n",
      "For a maximum Lev dist of 8 there are 1084 possible name matches\n",
      "For a maximum Lev dist of 9 there are 1450 possible name matches\n",
      "For a maximum Lev dist of 10 there are 1818 possible name matches\n"
     ]
    }
   ],
   "source": [
    "for i in range(1, 11):\n",
    "    full_dict = combine_dicts((l1_dict, l2_dict, l3_dict, l4_dict), threshold = i)\n",
    "    print(f\"For a maximum Lev dist of {i} there are {len(full_dict.keys())} possible name matches\")"
   ]
  },
  {
   "cell_type": "code",
   "execution_count": 30,
   "id": "389e4780",
   "metadata": {},
   "outputs": [],
   "source": [
    "full_dict = combine_dicts((l1_dict, l2_dict, l3_dict, l4_dict), threshold = 7)"
   ]
  },
  {
   "cell_type": "code",
   "execution_count": 31,
   "id": "fbe2bcec",
   "metadata": {},
   "outputs": [],
   "source": [
    "#We're going to have to manually sort through all of the possible matches. To limit the amount of work we have to do only\n",
    "#matches within 7 changes will be considered. We are going to construct a new dictionary with the beer ratings name as the\n",
    "#key and the name it should be in the beer qualities as the value.\n",
    "\n",
    "#ratings_to_qualities_name_dict = {}\n",
    "\n",
    "#for i in range(len(full_dict.keys())):\n",
    "#    if full_dict[list(full_dict.keys())[i]][0] <= 7:\n",
    "#        print(f\"Ratings name = {list(full_dict.keys())[i]} : {full_dict[list(full_dict.keys())[i]][1]} = Possible Quality Match\")\n",
    "#        ans = ''\n",
    "#        while ans != 'y' and ans != 'n':\n",
    "#            ans = input()\n",
    "#            if ans == 'y':\n",
    "#                ratings_to_qualities_name_dict[list(full_dict.keys())[i]] = full_dict[list(full_dict.keys())[i]][1]\n",
    "#            elif ans == 'n':\n",
    "#                continue\n",
    "#            else:\n",
    "#                print(\"Please use yes or no to indicate the quality of the relationship\")           "
   ]
  },
  {
   "cell_type": "code",
   "execution_count": 32,
   "id": "c08bed0a",
   "metadata": {},
   "outputs": [],
   "source": [
    "#Save dictionary final version, next cell will load the dictionary\n",
    "\n",
    "#name_dict_fh = open('ratings_to_qualities_name_dict', 'wb')\n",
    "#pickle.dump(ratings_to_qualities_name_dict, name_dict_fh)\n",
    "#name_dict_fh.close()"
   ]
  },
  {
   "cell_type": "code",
   "execution_count": 33,
   "id": "43f85adf",
   "metadata": {},
   "outputs": [],
   "source": [
    "name_dict_fh = open('ratings_to_qualities_name_dict', 'rb')\n",
    "ratings_to_qualities_name_dict = pickle.load(name_dict_fh)\n",
    "for beer in list(Beer_qualities['combined_name']):\n",
    "    ratings_to_qualities_name_dict[beer] = beer"
   ]
  },
  {
   "cell_type": "code",
   "execution_count": 34,
   "id": "60720ded",
   "metadata": {},
   "outputs": [],
   "source": [
    "ratings = Beer_ratings[(Beer_ratings.combined_name.isin(ratings_to_qualities_name_dict)) | \n",
    "                       (Beer_ratings.combined_name.isin(list(Beer_qualities['combined_name'])))]"
   ]
  },
  {
   "cell_type": "code",
   "execution_count": 35,
   "id": "ecd1ef73",
   "metadata": {},
   "outputs": [],
   "source": [
    "ratings = ratings[['combined_name', 'review_overall', 'review_profilename']]"
   ]
  },
  {
   "cell_type": "code",
   "execution_count": 36,
   "id": "3304eb6c",
   "metadata": {},
   "outputs": [
    {
     "name": "stdout",
     "output_type": "stream",
     "text": [
      "465981\n"
     ]
    }
   ],
   "source": [
    "print(len(ratings))"
   ]
  },
  {
   "cell_type": "code",
   "execution_count": 37,
   "id": "5382c3e5",
   "metadata": {},
   "outputs": [
    {
     "data": {
      "text/plain": [
       "<AxesSubplot:xlabel='review_overall', ylabel='Count'>"
      ]
     },
     "execution_count": 37,
     "metadata": {},
     "output_type": "execute_result"
    },
    {
     "data": {
      "image/png": "[encoded data removed]",
      "text/plain": [
       "<Figure size 432x288 with 1 Axes>"
      ]
     },
     "metadata": {
      "needs_background": "light"
     },
     "output_type": "display_data"
    }
   ],
   "source": [
    "sns.histplot(ratings['review_overall'])"
   ]
  },
  {
   "cell_type": "markdown",
   "id": "faed3abb",
   "metadata": {},
   "source": [
    "We can see that the distribution holds, even after filtering out reviews that can't be linked to the Beer_qualities data set."
   ]
  },
  {
   "cell_type": "markdown",
   "id": "b05baebf",
   "metadata": {},
   "source": [
    "## Data Preperation\n",
    "1. Split ratings data into train and test\n",
    "2. Create Ratings Matrix based on user id and beer names, shape is (user_id, beer_name)\n",
    "3. Create beer quality matrix, shape is (beer_name, # of qualities)\n",
    "4. Create Collaborative similarity matrix\n",
    "5. Create Content based similarity matrix"
   ]
  },
  {
   "cell_type": "markdown",
   "id": "e05e1245",
   "metadata": {},
   "source": [
    "### Split Data"
   ]
  },
  {
   "cell_type": "code",
   "execution_count": 38,
   "id": "376fe393",
   "metadata": {},
   "outputs": [
    {
     "name": "stdout",
     "output_type": "stream",
     "text": [
      "Number of training ratings = 372785\n",
      "Number of test ratings = 93196\n"
     ]
    }
   ],
   "source": [
    "user_names = list(set(ratings[\"review_profilename\"]))\n",
    "beer_names = list(set(Beer_qualities[\"combined_name\"]))\n",
    "test_data_size = int(len(ratings.index) * 0.2)\n",
    "shuffled_ratings = ratings.sample(frac = 1, random_state = 22).reset_index(drop=True)\n",
    "test_ratings = shuffled_ratings[:test_data_size]\n",
    "train_ratings = shuffled_ratings[test_data_size:]\n",
    "print(f\"Number of training ratings = {len(train_ratings)}\")\n",
    "print(f\"Number of test ratings = {len(test_ratings)}\")"
   ]
  },
  {
   "cell_type": "markdown",
   "id": "be511343",
   "metadata": {},
   "source": [
    "### Ratings Matrix"
   ]
  },
  {
   "cell_type": "code",
   "execution_count": 39,
   "id": "e31028a7",
   "metadata": {},
   "outputs": [],
   "source": [
    "user_to_index = dict(zip(user_names, list(range(len(user_names)))))\n",
    "beer_to_index = dict(zip(beer_names, list(range(len(beer_names)))))\n",
    "\n",
    "rating_scores = train_ratings['review_overall'].astype('float')\n",
    "user_index = [user_to_index[x] for x in train_ratings['review_profilename']]\n",
    "beer_index = [beer_to_index[ratings_to_qualities_name_dict[x]] for x in list(train_ratings['combined_name'])]\n",
    "\n",
    "#for i in range(len(train_ratings)):\n",
    "#    print('bass brewers limited_bass pale ale' in list(train_ratings['combined_name']))\n",
    "#    print(f\"{i} : {train_ratings.iloc[i]}\")\n",
    "#    name = train_ratings.iloc[i]['combined_name']\n",
    "#    print(name)\n",
    "#    print(i)\n",
    "#    if name not in list(Beer_qualities['combined_name']):\n",
    "#        name = ratings_to_qualities_name_dict[name]\n",
    "#    beer_index.append(beer_to_index[name])\n",
    "\n",
    "rating_matrix = np.array(\n",
    "    coo_matrix((rating_scores, (user_index, beer_index)), \n",
    "                shape=(len(user_to_index.keys()), len(beer_to_index.keys()))).toarray())"
   ]
  },
  {
   "cell_type": "code",
   "execution_count": 40,
   "id": "b9555680",
   "metadata": {},
   "outputs": [
    {
     "name": "stdout",
     "output_type": "stream",
     "text": [
      "(22997, 5555)\n",
      "<class 'numpy.ndarray'>\n"
     ]
    }
   ],
   "source": [
    "print(rating_matrix.shape)\n",
    "print(type(rating_matrix))"
   ]
  },
  {
   "cell_type": "markdown",
   "id": "79ff7b87",
   "metadata": {},
   "source": [
    "### Beer Qualities Matrix:\n",
    "Calculating the similarity between the beers"
   ]
  },
  {
   "cell_type": "code",
   "execution_count": 41,
   "id": "61d8cb6e",
   "metadata": {},
   "outputs": [
    {
     "name": "stdout",
     "output_type": "stream",
     "text": [
      "Index(['Name', 'key', 'Style', 'Style Key', 'Brewery', 'Description', 'ABV',\n",
      "       'Ave Rating', 'Min IBU', 'Max IBU', 'Astringency', 'Body', 'Alcohol',\n",
      "       'Bitter', 'Sweet', 'Sour', 'Salty', 'Fruits', 'Hoppy', 'Spices',\n",
      "       'Malty', 'combined_name'],\n",
      "      dtype='object')\n"
     ]
    }
   ],
   "source": [
    "print(Beer_qualities.columns)\n",
    "drop_qualities_columns = ['Name', 'key', 'Style', 'Style Key', 'Brewery', \n",
    "                          'Description', 'ABV', 'Ave Rating', 'Min IBU', \n",
    "                          'Max IBU', 'combined_name']\n",
    "quality_scores = Beer_qualities.drop_duplicates(subset = ['combined_name'], keep = 'first').drop(drop_qualities_columns, axis = 1).to_numpy()"
   ]
  },
  {
   "cell_type": "markdown",
   "id": "ef1611c4",
   "metadata": {},
   "source": [
    "### Create Content Similiarity Matrix"
   ]
  },
  {
   "cell_type": "code",
   "execution_count": 42,
   "id": "5bb00330",
   "metadata": {},
   "outputs": [],
   "source": [
    "beer_to_beer_similarity = np.full((quality_scores.shape[0], quality_scores.shape[0]), 1) - squareform(pdist(quality_scores, metric = 'cosine'))\n",
    "beer_to_beer_similarity = np.nan_to_num(beer_to_beer_similarity, copy = False)"
   ]
  },
  {
   "cell_type": "code",
   "execution_count": 43,
   "id": "50967210",
   "metadata": {},
   "outputs": [
    {
     "name": "stdout",
     "output_type": "stream",
     "text": [
      "We expect the similarity matrix to have shape (5555, 5555): (5555, 5555)\n"
     ]
    },
    {
     "data": {
      "text/plain": [
       "0"
      ]
     },
     "execution_count": 43,
     "metadata": {},
     "output_type": "execute_result"
    }
   ],
   "source": [
    "print(f\"We expect the similarity matrix to have shape (5555, 5555): {beer_to_beer_similarity.shape}\")\n",
    "np.isnan(beer_to_beer_similarity).sum()"
   ]
  },
  {
   "cell_type": "markdown",
   "id": "9c29fa8b",
   "metadata": {},
   "source": [
    "### Cosine Similarity Matrix:\n",
    "Calculating the similarity between beers, based on users"
   ]
  },
  {
   "cell_type": "code",
   "execution_count": 44,
   "id": "3afdfd9c",
   "metadata": {},
   "outputs": [
    {
     "name": "stderr",
     "output_type": "stream",
     "text": [
      "<ipython-input-44-c5be0c67b510>:8: RuntimeWarning: invalid value encountered in double_scalars\n",
      "  user_avg = sum(rating_matrix[i])/np.count_nonzero(rating_matrix[i])\n"
     ]
    }
   ],
   "source": [
    "# First we will transform the matrix such that the zeros will be replaced to user average, then the scores will be normalized\n",
    "# to have 0 be the user average for each row\n",
    "#For some of the users their only rated beer occured in the test set, this means there will be a divide by 0 error.\n",
    "#We address this by replacing all of the nan values with 0.\n",
    "\n",
    "transformed_ratings = np.zeros((rating_matrix.shape[0], rating_matrix.shape[1]))\n",
    "for i in range(transformed_ratings.shape[0]):\n",
    "    user_avg = sum(rating_matrix[i])/np.count_nonzero(rating_matrix[i])\n",
    "    transformed_ratings[i] = rating_matrix[i]\n",
    "    transformed_ratings[i][np.where(transformed_ratings[i] == 0)] = user_avg\n",
    "    transformed_ratings[i] = transformed_ratings[i] - user_avg\n",
    "transformed_ratings = np.nan_to_num(transformed_ratings)"
   ]
  },
  {
   "cell_type": "code",
   "execution_count": 45,
   "id": "284213ff",
   "metadata": {},
   "outputs": [],
   "source": [
    "#Calculate cosine similarity and scale to range [0,1]\n",
    "\n",
    "user_similarity = cosine_similarity(transformed_ratings.T, transformed_ratings.T)\n",
    "for i in range(user_similarity.shape[0]):\n",
    "    for j in range(user_similarity.shape[1]):\n",
    "        if user_similarity[i][j] == 0:\n",
    "            user_similarity[i][j] = 1\n",
    "minimum = user_similarity.min()\n",
    "maximum = user_similarity.max()\n",
    "user_similarity = (user_similarity - minimum) / (maximum - minimum)"
   ]
  },
  {
   "cell_type": "code",
   "execution_count": 46,
   "id": "0db010ed",
   "metadata": {},
   "outputs": [
    {
     "data": {
      "text/plain": [
       "(5555, 5555)"
      ]
     },
     "execution_count": 46,
     "metadata": {},
     "output_type": "execute_result"
    }
   ],
   "source": [
    "user_similarity.shape"
   ]
  },
  {
   "cell_type": "markdown",
   "id": "84bd97ea",
   "metadata": {},
   "source": [
    "# Constructing the recommender system:\n",
    "With the data understood, cleaned, and organized into a useful form we can turn our attention to constructing our recommender system. We are going to try three different forms of the recommender system. The first will be collaborative, using user rating similarity, the second will be content based using the similarity between beers, and finally we will see if a hybrid model that takes the average of the other two models reduces mspe.\n"
   ]
  },
  {
   "cell_type": "code",
   "execution_count": 47,
   "id": "3350a36a",
   "metadata": {},
   "outputs": [],
   "source": [
    "def predict_from_similarity(similarity_matrix, beer2index, user2index, ratings_matrix, user, beer):\n",
    "    ratings = ratings_matrix[user2index[user]]\n",
    "    weights = similarity_matrix[beer2index[beer]]\n",
    "    score = sum(weights * ratings) / sum(weights[np.nonzero(ratings)])\n",
    "    return score"
   ]
  },
  {
   "cell_type": "code",
   "execution_count": 48,
   "id": "72b19804",
   "metadata": {},
   "outputs": [
    {
     "name": "stderr",
     "output_type": "stream",
     "text": [
      "<ipython-input-47-ff1c18045f4d>:4: RuntimeWarning: invalid value encountered in double_scalars\n",
      "  score = sum(weights * ratings) / sum(weights[np.nonzero(ratings)])\n"
     ]
    },
    {
     "data": {
      "text/plain": [
       "nan"
      ]
     },
     "execution_count": 48,
     "metadata": {},
     "output_type": "execute_result"
    }
   ],
   "source": [
    "predict_from_similarity(beer_to_beer_similarity, beer_to_index, user_to_index, rating_matrix, list(user_to_index.keys())[1], list(beer_to_index.keys())[0])"
   ]
  },
  {
   "cell_type": "code",
   "execution_count": 49,
   "id": "0821676b",
   "metadata": {},
   "outputs": [],
   "source": [
    "def predict(similarity_matrix, beer_to_index, user_to_index, rating_matrix, test, ratings_to_qualities_name_dict):\n",
    "    predictions = [predict_from_similarity(similarity_matrix, beer_to_index, user_to_index, rating_matrix, x[2], ratings_to_qualities_name_dict[x[0]]) for x in test.values]\n",
    "    return predictions"
   ]
  },
  {
   "cell_type": "code",
   "execution_count": 50,
   "id": "071f133a",
   "metadata": {},
   "outputs": [
    {
     "name": "stderr",
     "output_type": "stream",
     "text": [
      "<ipython-input-47-ff1c18045f4d>:4: RuntimeWarning: invalid value encountered in double_scalars\n",
      "  score = sum(weights * ratings) / sum(weights[np.nonzero(ratings)])\n"
     ]
    }
   ],
   "source": [
    "content = predict(beer_to_beer_similarity, beer_to_index, user_to_index, rating_matrix, test_ratings, ratings_to_qualities_name_dict)"
   ]
  },
  {
   "cell_type": "code",
   "execution_count": 51,
   "id": "0a680a44",
   "metadata": {},
   "outputs": [
    {
     "name": "stderr",
     "output_type": "stream",
     "text": [
      "<ipython-input-47-ff1c18045f4d>:4: RuntimeWarning: invalid value encountered in double_scalars\n",
      "  score = sum(weights * ratings) / sum(weights[np.nonzero(ratings)])\n"
     ]
    }
   ],
   "source": [
    "collab = predict(user_similarity, beer_to_index, user_to_index, rating_matrix, test_ratings, ratings_to_qualities_name_dict)"
   ]
  },
  {
   "cell_type": "code",
   "execution_count": 52,
   "id": "178b21bb",
   "metadata": {},
   "outputs": [],
   "source": [
    "def hybrid_prediction(collab_prediction, content_prediction):\n",
    "    prediction = [0] * len(collab_prediction)\n",
    "    for i in range(len(content_prediction)):\n",
    "        if not np.isnan(collab_prediction[i]) and np.isnan(content_prediction[i]):\n",
    "            prediction[i] = collab_prediction[i]\n",
    "        elif np.isnan(collab_prediction[i]) and not np.isnan(content_prediction[i]):\n",
    "            prediction[i] = content_prediction[i]\n",
    "        elif np.isnan(collab_prediction[i]) and np.isnan(content_prediction[i]):\n",
    "            prediction[i] = np.nan\n",
    "        else:\n",
    "            prediction[i] = sum([collab_prediction[i], content_prediction[i]])/2\n",
    "    return prediction"
   ]
  },
  {
   "cell_type": "code",
   "execution_count": 53,
   "id": "d3ee1c0f",
   "metadata": {},
   "outputs": [],
   "source": [
    "hybrid = hybrid_prediction(collab, content)"
   ]
  },
  {
   "cell_type": "code",
   "execution_count": 54,
   "id": "94aaf5f0",
   "metadata": {},
   "outputs": [],
   "source": [
    "def rmse(prediction, test_ratings): \n",
    "    if sum(np.isnan(prediction)) == 0:\n",
    "        return sum((prediction - test_ratings[\"review_overall\"]) ** 2) / len(test_ratings)\n",
    "    else:\n",
    "        non_nan_count = 0\n",
    "        running_total = 0\n",
    "        true = list(test_ratings[\"review_overall\"])\n",
    "        for i in range(len(prediction)):\n",
    "            if not np.isnan(prediction[i]):\n",
    "                non_nan_count += 1\n",
    "                running_total += (true[i] - prediction[i]) ** 2\n",
    "        return np.sqrt(running_total / non_nan_count)"
   ]
  },
  {
   "cell_type": "code",
   "execution_count": 56,
   "id": "e29cb1aa",
   "metadata": {},
   "outputs": [
    {
     "name": "stdout",
     "output_type": "stream",
     "text": [
      "Hybrid system RMSE: 0.7319001659492811\n",
      "Content system RMSE: 0.7358723847562219\n",
      "Collaborative system RMSE: 0.7287641368618639\n"
     ]
    }
   ],
   "source": [
    "print(f\"Hybrid system RMSE: {rmse(hybrid, test_ratings)}\")\n",
    "print(f\"Content system RMSE: {rmse(content, test_ratings)}\")\n",
    "print(f\"Collaborative system RMSE: {rmse(collab, test_ratings)}\")"
   ]
  },
  {
   "cell_type": "markdown",
   "id": "2adafeee",
   "metadata": {},
   "source": [
    "# Conclusion\n",
    "The residual mean squared errors of the three different methods indicate that the collabarative method is the best of the three options. The conclusion we can draw from this is that the content based predictions are systematically worse than the collaborative predictions. By taking the average of the two, we are diluting the predictive power of the content based recommender system.\n",
    "Thus for this particular data set, with no other adjustments or tuning, the Collaborative system on its own would be the most useful system."
   ]
  },
  {
   "cell_type": "code",
   "execution_count": null,
   "id": "f9a24e07",
   "metadata": {},
   "outputs": [],
   "source": []
  }
 ],
 "metadata": {
  "kernelspec": {
   "display_name": "Python 3",
   "language": "python",
   "name": "python3"
  },
  "language_info": {
   "codemirror_mode": {
    "name": "ipython",
    "version": 3
   },
   "file_extension": ".py",
   "mimetype": "text/x-python",
   "name": "python",
   "nbconvert_exporter": "python",
   "pygments_lexer": "ipython3",
   "version": "3.8.8"
  }
 },
 "nbformat": 4,
 "nbformat_minor": 5
}
